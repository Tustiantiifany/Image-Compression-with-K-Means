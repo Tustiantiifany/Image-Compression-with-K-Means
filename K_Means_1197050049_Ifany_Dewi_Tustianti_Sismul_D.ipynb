{
  "nbformat": 4,
  "nbformat_minor": 0,
  "metadata": {
    "colab": {
      "name": "K-Means 1197050049_Ifany Dewi Tustianti_Sismul_D.ipynb",
      "provenance": [],
      "authorship_tag": "ABX9TyO1aKGstJB2YDkPW0OIj0H0",
      "include_colab_link": true
    },
    "kernelspec": {
      "name": "python3",
      "display_name": "Python 3"
    },
    "language_info": {
      "name": "python"
    }
  },
  "cells": [
    {
      "cell_type": "markdown",
      "metadata": {
        "id": "view-in-github",
        "colab_type": "text"
      },
      "source": [
        "<a href=\"https://colab.research.google.com/github/Tustiantiifany/Image-Compression-with-K-Means/blob/main/K_Means_1197050049_Ifany_Dewi_Tustianti_Sismul_D.ipynb\" target=\"_parent\"><img src=\"https://colab.research.google.com/assets/colab-badge.svg\" alt=\"Open In Colab\"/></a>"
      ]
    },
    {
      "cell_type": "code",
      "execution_count": 7,
      "metadata": {
        "colab": {
          "base_uri": "https://localhost:8080/",
          "height": 343
        },
        "id": "j5opkL7_nHGs",
        "outputId": "1afaf437-fd96-4419-9bd7-b9b416b9dc46"
      },
      "outputs": [
        {
          "name": "stdout",
          "output_type": "stream",
          "text": [
            "Masukkan nama gambar beserta formatnya: burger3.jpg\n",
            "Enter the number of colors in the compressed image. default = 16\n",
            "4\n"
          ]
        },
        {
          "output_type": "display_data",
          "data": {
            "text/plain": [
              "<Figure size 432x288 with 1 Axes>"
            ],
            "image/png": "[encoded data removed]"
          },
          "metadata": {
            "needs_background": "light"
          }
        },
        {
          "output_type": "stream",
          "name": "stderr",
          "text": [
            "WARNING:root:Lossy conversion from float64 to uint8. Range [0, 1]. Convert image to uint8 prior to saving to suppress this warning.\n"
          ]
        }
      ],
      "source": [
        "import numpy as np\n",
        "import matplotlib.pyplot as plt\n",
        "import matplotlib.image as img\n",
        "# from scipy.io import loadmat\n",
        "import imageio\n",
        "from scipy import misc\n",
        "  \n",
        "def read_image():\n",
        "      \n",
        "    # loading the png image as a 3d matrix\n",
        "    name = input(\"Masukkan nama gambar beserta formatnya: \")\n",
        "    img = imageio.imread(name) \n",
        "  \n",
        "    # uncomment the below code to view the loaded image\n",
        "    # plt.imshow(A) # plotting the image\n",
        "    # plt.show() \n",
        "      \n",
        "    # scaling it so that the values are small\n",
        "    img = img / 255 \n",
        "  \n",
        "    return img\n",
        "  \n",
        "def initialize_means(img, clusters):\n",
        "      \n",
        "    # reshaping it or flattening it into a 2d matrix\n",
        "    points = np.reshape(img, (img.shape[0] * img.shape[1],\n",
        "                                             img.shape[2])) \n",
        "    m, n = points.shape\n",
        "  \n",
        "    # clusters is the number of clusters\n",
        "    # or the number of colors that we choose.\n",
        "      \n",
        "    # means is the array of assumed means or centroids. \n",
        "    means = np.zeros((clusters, n)) \n",
        "  \n",
        "    # random initialization of means. \n",
        "    for i in range(clusters):\n",
        "        rand1 = int(np.random.random(1)*10)\n",
        "        rand2 = int(np.random.random(1)*8)\n",
        "        means[i, 0] = points[rand1, 0]\n",
        "        means[i, 1] = points[rand2, 1]\n",
        "  \n",
        "    return points, means\n",
        "  \n",
        "  \n",
        "# Function to measure the euclidean\n",
        "# distance (distance formula)\n",
        "def distance(x1, y1, x2, y2):\n",
        "      \n",
        "    dist = np.square(x1 - x2) + np.square(y1 - y2)\n",
        "    dist = np.sqrt(dist)\n",
        "  \n",
        "    return dist\n",
        "  \n",
        "  \n",
        "def k_means(points, means, clusters):\n",
        "  \n",
        "    iterations = 10 # the number of iterations \n",
        "    m, n = points.shape\n",
        "      \n",
        "    # these are the index values that\n",
        "    # correspond to the cluster to\n",
        "    # which each pixel belongs to.\n",
        "    index = np.zeros(m) \n",
        "  \n",
        "    # k-means algorithm.\n",
        "    while(iterations > 0):\n",
        "  \n",
        "        for j in range(len(points)):\n",
        "              \n",
        "            # initialize minimum value to a large value\n",
        "            minv = 1000\n",
        "            temp = None\n",
        "              \n",
        "            for k in range(clusters):\n",
        "                  \n",
        "                x1 = points[j, 0]\n",
        "                y1 = points[j, 1]\n",
        "                x2 = means[k, 0]\n",
        "                y2 = means[k, 1]\n",
        "                  \n",
        "                if(distance(x1, y1, x2, y2) < minv):         \n",
        "                    minv = distance(x1, y1, x2, y2)\n",
        "                    temp = k\n",
        "                    index[j] = k \n",
        "          \n",
        "        for k in range(clusters):\n",
        "              \n",
        "            sumx = 0\n",
        "            sumy = 0\n",
        "            count = 0\n",
        "              \n",
        "            for j in range(len(points)):\n",
        "                  \n",
        "                if(index[j] == k):\n",
        "                    sumx += points[j, 0]\n",
        "                    sumy += points[j, 1] \n",
        "                    count += 1\n",
        "              \n",
        "            if(count == 0):\n",
        "                count = 1    \n",
        "              \n",
        "            means[k, 0] = float(sumx / count)\n",
        "            means[k, 1] = float(sumy / count)     \n",
        "              \n",
        "        iterations -= 1\n",
        "  \n",
        "    return means, index\n",
        "  \n",
        "  \n",
        "def compress_image(means, index, img):\n",
        "  \n",
        "    # recovering the compressed image by\n",
        "    # assigning each pixel to its corresponding centroid.\n",
        "    centroid = np.array(means)\n",
        "    recovered = centroid[index.astype(int), :]\n",
        "      \n",
        "    # getting back the 3d matrix (row, col, rgb(3))\n",
        "    recovered = np.reshape(recovered, (img.shape[0], img.shape[1],\n",
        "                                                     img.shape[2]))\n",
        "  \n",
        "    # plotting the compressed image.\n",
        "    plt.imshow(recovered)\n",
        "    plt.show()\n",
        "  \n",
        "    # saving the compressed image.\n",
        "    imageio.imsave('compressed_' + str(clusters) +\n",
        "                        '_colors.png', recovered)\n",
        "  \n",
        "  \n",
        "# Driver Code\n",
        "if __name__ == '__main__':\n",
        "  \n",
        "    img = read_image()\n",
        "  \n",
        "    clusters = 16\n",
        "    clusters = int(input('Enter the number of colors in the compressed image. default = 16\\n'))\n",
        "  \n",
        "    points, means = initialize_means(img, clusters)\n",
        "    means, index = k_means(points, means, clusters)\n",
        "    compress_image(means, index, img)"
      ]
    }
  ]
}